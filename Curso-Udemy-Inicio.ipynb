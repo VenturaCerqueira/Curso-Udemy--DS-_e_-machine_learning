{
  "nbformat": 4,
  "nbformat_minor": 0,
  "metadata": {
    "colab": {
      "name": "Untitled2.ipynb",
      "provenance": [],
      "authorship_tag": "ABX9TyMWrZXos/39syDg2miTfs5i",
      "include_colab_link": true
    },
    "kernelspec": {
      "name": "python3",
      "display_name": "Python 3"
    },
    "language_info": {
      "name": "python"
    }
  },
  "cells": [
    {
      "cell_type": "markdown",
      "metadata": {
        "id": "view-in-github",
        "colab_type": "text"
      },
      "source": [
        "<a href=\"https://colab.research.google.com/github/VenturaCerqueira/Curso-Udemy--DS-_e_-machine_learning/blob/main/Curso-Udemy-Inicio.ipynb\" target=\"_parent\"><img src=\"https://colab.research.google.com/assets/colab-badge.svg\" alt=\"Open In Colab\"/></a>"
      ]
    },
    {
      "cell_type": "markdown",
      "metadata": {
        "id": "UPhAgw0rXVmr"
      },
      "source": [
        "#Curso Udemy - DS E Machine learning \n",
        "##Operações Básica, variaveis, string, lista e indexação\n"
      ]
    },
    {
      "cell_type": "code",
      "metadata": {
        "colab": {
          "base_uri": "https://localhost:8080/"
        },
        "id": "YtmPVV-QXU9Q",
        "outputId": "d75d7fa8-ea73-45ac-b9c5-e85268ad7844"
      },
      "source": [
        "#-------------------------------------------------------------------------------------------------------------->\n",
        "#Definição Variavel\n",
        "#Não deve-se iniciar variavel com numero ou caracter especial (*!@#$%¨¨&)\n",
        "#-------------------------------------------------------------------------------------------------------------->\n",
        "# V e diferente de v \n",
        "x = 1+1 #soma \n",
        "y = 1*3 #Mutiplicação  \n",
        "z = 1/2 #Divisão\n",
        "A = 3**2 #Exponesiação\n",
        "#-------------------------------------------------------------------------------------------------------------->\n",
        "#Declaração de variavel \n",
        "text = 'texto' #Tipo texot STR ou String\n",
        "virgula = 3.10 #Float \n",
        "inteiro = 3 #int \n",
        "verdadeiro = True #boolean ou bool\n",
        "falso = False #boolean ou bool\n",
        "#-------------------------------------------------------------------------------------------------------------->\n",
        "type (x)  #Diz tipo da variavel ou valor\n",
        "print(f'\\n Valor de X = {x} \\n valor de Y = {y} \\n valor de Z = {z}  \\n valor de A = {A}') #Demontra em tela\n",
        "print('\\n', type (text) ,'\\n', type (virgula),'\\n', type (inteiro),'\\n', type (verdadeiro),'\\n', type (falso))\n",
        "#-------------------------------------------------------------------------------------------------------------->\n",
        "#Ordem de prioridade \n",
        "X = (3*(1+3))/2 \n",
        "print(X)\n",
        "#-------------------------------------------------------------------------------------------------------------->\n",
        "#outra forma de print: \n",
        "var = 'anderson'\n",
        "idade = 25\n",
        "print('nome_da_variavel: {one} e tenho {two} anos'.format(one = var, two = idade)) #Declara diretamente ao print\n",
        "                          #ou\n",
        "print(f'nome_da_variavel: {var} e tenho {idade} anos.')\n",
        "#-------------------------------------------------------------------------------------------------------------->"
      ],
      "execution_count": null,
      "outputs": [
        {
          "output_type": "stream",
          "text": [
            "\n",
            " Valor de X = 2 \n",
            " valor de Y = 3 \n",
            " valor de Z = 0.5  \n",
            " valor de A = 9\n",
            "\n",
            " <class 'str'> \n",
            " <class 'float'> \n",
            " <class 'int'> \n",
            " <class 'bool'> \n",
            " <class 'bool'>\n",
            "6.0\n",
            "nome_da_variavel: anderson e tenho 25 anos\n",
            "nome_da_variavel: anderson e tenho 25 anos.\n"
          ],
          "name": "stdout"
        }
      ]
    },
    {
      "cell_type": "markdown",
      "metadata": {
        "id": "vSDYAF-c3D74"
      },
      "source": [
        "#Palavras reservadas "
      ]
    },
    {
      "cell_type": "code",
      "metadata": {
        "id": "nfHo1Tcb3Jq6"
      },
      "source": [
        "'''\n",
        "1-int ()            #Inteiro;\n",
        "2-float()           #Valores com virgula;\n",
        "3-True              #Verdadeiro;  \n",
        "4-False             #Falso;\n",
        "5-str               #String ou texto;\n",
        "6-Print             #Demonstra conteudo em tela;\n",
        "7-Input             #Cria campo para usuario para digitar;\n",
        "8-Type              #Demonstra Tipo da variavel;\n",
        "9-List              #Lista\n",
        "10-Disc             #Function Dicionario\n",
        "11-Complex          # \n",
        "'''\n",
        "#-------------------------------------------------------------------------------------------------------------->\n",
        "print(\"Funcionara para demonstra conteudo na tela!\") # Demonstra conteudo em tela\n",
        "#-------------------------------------------------------------------------------------------------------------->\n",
        "usuario = input('Cria campo para usuario digitar: ') #Input cria campo com interação com usuario\n",
        "print(usuario)#Apos demonstro valor tela\n",
        "#-------------------------------------------------------------------------------------------------------------->"
      ],
      "execution_count": null,
      "outputs": []
    },
    {
      "cell_type": "markdown",
      "metadata": {
        "id": "MVblDx-yzjw5"
      },
      "source": [
        "#Lista"
      ]
    },
    {
      "cell_type": "code",
      "metadata": {
        "id": "xTxQNVB9cOZ7"
      },
      "source": [
        "#lista\n",
        "#Lista inicia de 0 ate ultimo valor:\n",
        "#--------------------------------------------------------------------------------->\n",
        "lista = [1,2,3, [1,2,3], 'Hello', [1, 2, 3, 4, 5, 6, 7, 8]] #Atribui dados a lista\n",
        "#--------------------------------------------------------------------------------->\n",
        "print(lista) #demonstra lista por inteira\n",
        "#--------------------------------------------------------------------------------->\n",
        "print(type (lista)) #demonstra tipo \n",
        "#--------------------------------------------------------------------------------->\n",
        "print(lista[0]) #1\n",
        "print(lista[1]) #2\n",
        "print(lista[2]) #3\n",
        "print(lista[3]) #[1, 2, 3]\n",
        "#--------------------------------------------------------------------------------->\n",
        "print(lista[3][0]) #Seleciona o primeiro valor da lista\n",
        "print(lista[3][2]) #Seleciona o ultimo valor da lista\n",
        "#--------------------------------------------------------------------------------->\n",
        "print(lista[4]) #Demonstra texto 'Hello'\n",
        "#--------------------------------------------------------------------------------->\n",
        "print(lista[4][0]) # H\n",
        "print(lista[4][1]) # E\n",
        "print(lista[4][2]) # L\n",
        "print(lista[4][3]) # L\n",
        "print(lista[4][4]) # O\n",
        "#--------------------------------------------------------------------------------->\n",
        "print(lista[4][0:3])#Slice\n",
        "#--------------------------------------------------------------------------------->\n",
        "print(lista[5][0: :2])#Slice com pulo"
      ],
      "execution_count": null,
      "outputs": []
    },
    {
      "cell_type": "markdown",
      "metadata": {
        "id": "UAWlNASFzmGy"
      },
      "source": [
        "#Dicionario\n"
      ]
    },
    {
      "cell_type": "code",
      "metadata": {
        "colab": {
          "base_uri": "https://localhost:8080/"
        },
        "id": "we-WjxNJceZl",
        "outputId": "ae800894-7b4e-491b-fe34-b6046776479c"
      },
      "source": [
        "#Dicionario\n",
        "#--------------------------------------------------------------------------------->\n",
        "dic = {'valor1': 1, 'valor2': 2}\n",
        "type (dic)\n",
        "print(dic)\n",
        "#--------------------------------------------------------------------------------->"
      ],
      "execution_count": null,
      "outputs": [
        {
          "output_type": "stream",
          "text": [
            "{'valor1': 1, 'valor2': 2}\n"
          ],
          "name": "stdout"
        }
      ]
    },
    {
      "cell_type": "code",
      "metadata": {
        "colab": {
          "base_uri": "https://localhost:8080/"
        },
        "id": "yks-otBi7LuU",
        "outputId": "8bc78154-fa14-4e23-cf8e-5a134551f187"
      },
      "source": [
        "x = y = z = 10\n",
        "print(x, z, y)"
      ],
      "execution_count": null,
      "outputs": [
        {
          "output_type": "stream",
          "text": [
            "10 10 10\n"
          ],
          "name": "stdout"
        }
      ]
    },
    {
      "cell_type": "code",
      "metadata": {
        "id": "HhokSCN97QHg"
      },
      "source": [
        "def myfunc ():\n",
        "  return x\n",
        "  x = \"fantástico\""
      ],
      "execution_count": null,
      "outputs": []
    },
    {
      "cell_type": "code",
      "metadata": {
        "colab": {
          "base_uri": "https://localhost:8080/"
        },
        "id": "FpblxKgI8FzJ",
        "outputId": "180134d2-c008-4cd6-faab-80d0cf2d8adb"
      },
      "source": [
        "x = \"Hello World\"\n",
        "print(len(x))\n"
      ],
      "execution_count": null,
      "outputs": [
        {
          "output_type": "stream",
          "text": [
            "11\n"
          ],
          "name": "stdout"
        }
      ]
    },
    {
      "cell_type": "code",
      "metadata": {
        "id": "1CFiUNhp-QE6"
      },
      "source": [
        "txt = \" Hello World \"\n",
        "x = txt.strip()\n",
        "\n"
      ],
      "execution_count": null,
      "outputs": []
    },
    {
      "cell_type": "code",
      "metadata": {
        "id": "WMi1KoMGLSHl"
      },
      "source": [
        ""
      ],
      "execution_count": null,
      "outputs": []
    }
  ]
}